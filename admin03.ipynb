{
  "nbformat": 4,
  "nbformat_minor": 0,
  "metadata": {
    "colab": {
      "provenance": [],
      "authorship_tag": "ABX9TyNbE/PS+bguFIrRUOVA151T"
    },
    "kernelspec": {
      "name": "python3",
      "display_name": "Python 3"
    },
    "language_info": {
      "name": "python"
    }
  },
  "cells": [
    {
      "cell_type": "code",
      "execution_count": null,
      "metadata": {
        "id": "cVmn7BJtv28a"
      },
      "outputs": [],
      "source": [
        "<!DOCTYPE html>\n",
        "<html lang=\"ko\">\n",
        "<head>\n",
        "  <meta charset=\"UTF-8\">\n",
        "  <meta name=\"viewport\" content=\"width=device-width, initial-scale=1.0\">\n",
        "  <title>제품명 입력</title>\n",
        "  <link href=\"https://cdn.jsdelivr.net/npm/bootstrap@5.3.1/dist/css/bootstrap.min.css\" rel=\"stylesheet\" integrity=\"sha384-4bw+/aepP/YC94hEpVNVgiZdgIC5+VKNBQNGCHeKRQN+PtmoHDEXuppvnDJzQIu9\" crossorigin=\"anonymous\">\n",
        "</head>\n",
        "<body>\n",
        "\n",
        "  <div class=\"container mt-5\">\n",
        "    <h3>제품 검색</h3>\n",
        "    <form class=\"row row-cols-lg-auto g-3 align-items-center\">\n",
        "      <div class=\"col-12\">\n",
        "        <!-- 입력 필드에 \"제품명을 입력해주세요\"라는 텍스트를 표시 -->\n",
        "        <input type=\"text\" class=\"form-control\" placeholder=\"제품명을 입력해주세요\" aria-label=\"제품명\">\n",
        "      </div>\n",
        "      <div class=\"col-auto\">\n",
        "        <!-- 입력 버튼 -->\n",
        "        <button type=\"submit\" class=\"btn btn-primary\">검색</button>\n",
        "      </div>\n",
        "    </form>\n",
        "  </div>\n",
        "\n",
        "  <script src=\"https://cdn.jsdelivr.net/npm/bootstrap@5.3.1/dist/js/bootstrap.bundle.min.js\"></script>\n",
        "</body>\n",
        "</html>\n"
      ]
    }
  ]
}