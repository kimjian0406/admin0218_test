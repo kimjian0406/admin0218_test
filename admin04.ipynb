{
  "nbformat": 4,
  "nbformat_minor": 0,
  "metadata": {
    "colab": {
      "provenance": [],
      "authorship_tag": "ABX9TyMwRVl2uLQs1DUqUk/9Bszw"
    },
    "kernelspec": {
      "name": "python3",
      "display_name": "Python 3"
    },
    "language_info": {
      "name": "python"
    }
  },
  "cells": [
    {
      "cell_type": "markdown",
      "source": [
        "조회 버튼이 입력창 옆에 붙어 있도록 코드 작성"
      ],
      "metadata": {
        "id": "N0yu1m-hyKqa"
      }
    },
    {
      "cell_type": "code",
      "source": [
        "<form class=\"d-flex\">\n",
        "  <!-- 제품명 입력 필드 -->\n",
        "  <input type=\"text\" class=\"form-control\" placeholder=\"제품명을 입력해주세요\" aria-label=\"제품명\" style=\"width: 250px;\">\n",
        "  <!-- 조회 버튼 -->\n",
        "  <button type=\"submit\" class=\"btn btn-primary ms-2\">조회</button>\n",
        "</form>\n"
      ],
      "metadata": {
        "id": "QAmAknX5yNIa"
      },
      "execution_count": null,
      "outputs": []
    },
    {
      "cell_type": "markdown",
      "source": [
        "테이블을 이용해 최 상단에는 속성 값을 넣고 하단에는 데이터가 입력되도록 코드 작성"
      ],
      "metadata": {
        "id": "0EqYvCMkyTjI"
      }
    },
    {
      "cell_type": "code",
      "source": [
        "<div class=\"mt-4\">\n",
        "  <table class=\"table table-bordered table-sm\">\n",
        "    <thead>\n",
        "      <tr>\n",
        "        <th scope=\"col\">카테고리</th>\n",
        "        <th scope=\"col\">브랜드</th>\n",
        "        <th scope=\"col\">상품명</th>\n",
        "        <th scope=\"col\">가격</th>\n",
        "      </tr>\n",
        "    </thead>\n",
        "    <tbody>\n",
        "      <!-- 제품 데이터가 이곳에 표시됩니다 -->\n",
        "      <tr>\n",
        "        <td>상의</td>\n",
        "        <td>Supreme</td>\n",
        "        <td>슈프림 박스로고 후드티</td>\n",
        "        <td>390,000원</td>\n",
        "      </tr>\n",
        "      <tr>\n",
        "        <td>하의</td>\n",
        "        <td>DIESEL</td>\n",
        "        <td>디젤 트랙 팬츠</td>\n",
        "        <td>188,000원</td>\n",
        "      </tr>\n",
        "      <tr>\n",
        "        <td>신발</td>\n",
        "        <td>Nike</td>\n",
        "        <td>에어포스 1</td>\n",
        "        <td>137,000원</td>\n",
        "      </tr>\n",
        "      <tr>\n",
        "        <td>패션잡화</td>\n",
        "        <td>Music&Goods</td>\n",
        "        <td>빵빵이 키링</td>\n",
        "        <td>29,000원</td>\n",
        "      </tr>\n",
        "    </tbody>\n",
        "  </table>\n",
        "</div>\n"
      ],
      "metadata": {
        "id": "BlFsR2tvyZEs"
      },
      "execution_count": null,
      "outputs": []
    },
    {
      "cell_type": "markdown",
      "source": [
        "마지막으로 페이지 네이션 기능을 추가한 코드입니다. 페이지 네이션은 페이지를 나누어 보여주는 데 사용됩니다."
      ],
      "metadata": {
        "id": "VADBShjeybkt"
      }
    },
    {
      "cell_type": "code",
      "source": [
        "<div class=\"d-flex justify-content-center mt-3\">\n",
        "  <nav>\n",
        "    <ul class=\"pagination\">\n",
        "      <li class=\"page-item disabled\">\n",
        "        <span class=\"page-link\">이전</span>\n",
        "      </li>\n",
        "      <li class=\"page-item active\">\n",
        "        <span class=\"page-link\">1</span>\n",
        "      </li>\n",
        "      <li class=\"page-item\">\n",
        "        <a class=\"page-link\" href=\"#\">2</a>\n",
        "      </li>\n",
        "      <li class=\"page-item\">\n",
        "        <a class=\"page-link\" href=\"#\">3</a>\n",
        "      </li>\n",
        "      <li class=\"page-item\">\n",
        "        <a class=\"page-link\" href=\"#\">다음</a>\n",
        "      </li>\n",
        "    </ul>\n",
        "  </nav>\n",
        "</div>\n"
      ],
      "metadata": {
        "id": "-f36lzhiygcn"
      },
      "execution_count": null,
      "outputs": []
    }
  ]
}