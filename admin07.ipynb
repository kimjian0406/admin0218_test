{
  "nbformat": 4,
  "nbformat_minor": 0,
  "metadata": {
    "colab": {
      "provenance": [],
      "authorship_tag": "ABX9TyPrXaqe7or0nlHDGQ8SMY+6"
    },
    "kernelspec": {
      "name": "python3",
      "display_name": "Python 3"
    },
    "language_info": {
      "name": "python"
    }
  },
  "cells": [
    {
      "cell_type": "markdown",
      "source": [
        "회원가입 폼"
      ],
      "metadata": {
        "id": "ABmHfN0VUy69"
      }
    },
    {
      "cell_type": "code",
      "source": [
        "<!DOCTYPE html>\n",
        "<html lang=\"en\">\n",
        "<head>\n",
        "    <meta charset=\"UTF-8\">\n",
        "    <meta name=\"viewport\" content=\"width=device-width, initial-scale=1.0\">\n",
        "    <title>회원 가입 폼</title>\n",
        "    <!-- 부트스트랩 CSS CDN -->\n",
        "    <link href=\"https://stackpath.bootstrapcdn.com/bootstrap/4.5.2/css/bootstrap.min.css\" rel=\"stylesheet\">\n",
        "</head>\n",
        "<body>\n",
        "    <div class=\"container\">\n",
        "        <h2 class=\"my-4 text-center\">회원 가입</h2>\n",
        "\n",
        "        <form>\n",
        "            <div class=\"form-group\">\n",
        "                <label for=\"username\">아이디</label>\n",
        "                <input type=\"text\" class=\"form-control\" id=\"username\" placeholder=\"아이디 입력\" required>\n",
        "            </div>\n",
        "\n",
        "            <div class=\"form-group\">\n",
        "                <label for=\"email\">이메일</label>\n",
        "                <input type=\"email\" class=\"form-control\" id=\"email\" placeholder=\"이메일 입력\" required>\n",
        "            </div>\n",
        "\n",
        "            <div class=\"form-group\">\n",
        "                <label for=\"password\">비밀번호</label>\n",
        "                <input type=\"password\" class=\"form-control\" id=\"password\" placeholder=\"비밀번호 입력\" required>\n",
        "            </div>\n",
        "\n",
        "            <div class=\"form-group\">\n",
        "                <label for=\"confirmPassword\">비밀번호 확인</label>\n",
        "                <input type=\"password\" class=\"form-control\" id=\"confirmPassword\" placeholder=\"비밀번호 확인\" required>\n",
        "            </div>\n",
        "\n",
        "            <div class=\"form-group\">\n",
        "                <label for=\"firstName\">이름</label>\n",
        "                <input type=\"text\" class=\"form-control\" id=\"firstName\" placeholder=\"이름 입력\" required>\n",
        "            </div>\n",
        "\n",
        "            <div class=\"form-group\">\n",
        "                <label for=\"lastName\">성</label>\n",
        "                <input type=\"text\" class=\"form-control\" id=\"lastName\" placeholder=\"성 입력\" required>\n",
        "            </div>\n",
        "\n",
        "            <button type=\"submit\" class=\"btn btn-primary btn-block\">회원 가입</button>\n",
        "        </form>\n",
        "    </div>\n",
        "\n",
        "    <!-- 부트스트랩 JS CDN -->\n",
        "    <script src=\"https://code.jquery.com/jquery-3.5.1.slim.min.js\"></script>\n",
        "    <script src=\"https://cdn.jsdelivr.net/npm/@popperjs/core@2.5.2/dist/umd/popper.min.js\"></script>\n",
        "    <script src=\"https://stackpath.bootstrapcdn.com/bootstrap/4.5.2/js/bootstrap.min.js\"></script>\n",
        "</body>\n",
        "</html>\n"
      ],
      "metadata": {
        "id": "-CDF7XqqU34L"
      },
      "execution_count": null,
      "outputs": []
    }
  ]
}